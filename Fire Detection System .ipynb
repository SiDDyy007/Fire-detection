{
 "cells": [
  {
   "cell_type": "code",
   "execution_count": 1,
   "metadata": {
    "colab": {
     "base_uri": "https://localhost:8080/",
     "height": 54
    },
    "colab_type": "code",
    "id": "M3OBXeh6VWr0",
    "outputId": "3f7bd6d4-e5bc-4fd2-c6b2-925995be836f"
   },
   "outputs": [
    {
     "name": "stdout",
     "output_type": "stream",
     "text": [
      "Found 1800 images belonging to 2 classes.\n",
      "Found 200 images belonging to 2 classes.\n"
     ]
    }
   ],
   "source": [
    "import tensorflow as tf\n",
    "import keras_preprocessing\n",
    "from keras_preprocessing import image\n",
    "from keras_preprocessing.image import ImageDataGenerator\n",
    "import shutil\n",
    "TRAINING_DIR = \"Dataset 3/Train\"\n",
    "\n",
    "training_datagen = ImageDataGenerator(rescale=1./255,\n",
    "\t\t\t\t\t\t\t\t\t\t\t\t\t\t\t\t\t\t\tzoom_range=0.15,\n",
    "\t\t\t\t\t\t\t\t\t\t\t\t\t\t\t\t\t\t\thorizontal_flip=True,\n",
    "                                      fill_mode='nearest')\n",
    "\n",
    "VALIDATION_DIR = \"Dataset 3/Test\"\n",
    "validation_datagen = ImageDataGenerator(rescale = 1./255)\n",
    "\n",
    "train_generator = training_datagen.flow_from_directory(\n",
    "\tTRAINING_DIR,\n",
    "\ttarget_size=(224,224),\n",
    "\tshuffle = True,\n",
    "\tclass_mode='categorical',\n",
    "  batch_size = 128\n",
    ")\n",
    "\n",
    "validation_generator = validation_datagen.flow_from_directory(\n",
    "\tVALIDATION_DIR,\n",
    "\ttarget_size=(224,224),\n",
    "\tclass_mode='categorical',\n",
    "\tshuffle = True,\n",
    "  batch_size= 14\n",
    ")"
   ]
  },
  {
   "cell_type": "code",
   "execution_count": 2,
   "metadata": {
    "colab": {
     "base_uri": "https://localhost:8080/",
     "height": 74
    },
    "colab_type": "code",
    "id": "HH1NABoFzDd0",
    "outputId": "f5c9368f-3cd9-4c49-fcc3-f3182e15ad9b"
   },
   "outputs": [],
   "source": [
    "from tensorflow.keras.applications.inception_v3 import InceptionV3\n",
    "from tensorflow.keras.preprocessing import image\n",
    "from tensorflow.keras.models import Model\n",
    "from tensorflow.keras.layers import Dense, GlobalAveragePooling2D, Input, Dropout\n",
    "\n",
    "input_tensor = Input(shape=(224, 224, 3))\n",
    "\n",
    "base_model = InceptionV3(input_tensor=input_tensor, weights='imagenet', include_top=False)\n",
    "\n",
    "# add a global spatial average pooling layer\n",
    "x = base_model.output\n",
    "x = GlobalAveragePooling2D()(x)\n",
    "x = Dense(2048, activation='relu')(x)\n",
    "x = Dropout(0.25)(x)\n",
    "x = Dense(1024, activation='relu')(x)\n",
    "x = Dropout(0.2)(x)\n",
    "predictions = Dense(2, activation='softmax')(x)\n",
    "\n",
    "model = Model(inputs=base_model.input, outputs=predictions)\n",
    "\n",
    "for layer in base_model.layers:\n",
    "    layer.trainable = False\n",
    "\n",
    "model.compile(optimizer='rmsprop', loss='categorical_crossentropy', metrics=['acc'])"
   ]
  },
  {
   "cell_type": "code",
   "execution_count": 3,
   "metadata": {
    "colab": {
     "base_uri": "https://localhost:8080/",
     "height": 745
    },
    "colab_type": "code",
    "id": "l5Uua4-UUP5k",
    "outputId": "c2ddabee-31d9-4d61-b4f2-2ef5231e2acb"
   },
   "outputs": [
    {
     "name": "stdout",
     "output_type": "stream",
     "text": [
      "Epoch 1/20\n",
      "14/14 [==============================] - 89s 6s/step - loss: 8.2459 - acc: 0.8367 - val_loss: 0.1367 - val_acc: 0.9541\n",
      "Epoch 2/20\n",
      "14/14 [==============================] - 80s 6s/step - loss: 0.0936 - acc: 0.9641 - val_loss: 0.2033 - val_acc: 0.9337\n",
      "Epoch 3/20\n",
      "14/14 [==============================] - 83s 6s/step - loss: 0.6555 - acc: 0.8971 - val_loss: 0.1148 - val_acc: 0.9439\n",
      "Epoch 4/20\n",
      "14/14 [==============================] - 84s 6s/step - loss: 0.1847 - acc: 0.9426 - val_loss: 0.1110 - val_acc: 0.9592\n",
      "Epoch 5/20\n",
      "14/14 [==============================] - 86s 6s/step - loss: 0.7807 - acc: 0.9222 - val_loss: 0.1162 - val_acc: 0.9541\n",
      "Epoch 6/20\n",
      "14/14 [==============================] - 85s 6s/step - loss: 0.1360 - acc: 0.9510 - val_loss: 0.1024 - val_acc: 0.9592\n",
      "Epoch 7/20\n",
      "14/14 [==============================] - 85s 6s/step - loss: 0.0737 - acc: 0.9713 - val_loss: 0.2596 - val_acc: 0.9082\n",
      "Epoch 8/20\n",
      "14/14 [==============================] - 85s 6s/step - loss: 0.1464 - acc: 0.9462 - val_loss: 0.2903 - val_acc: 0.8929\n",
      "Epoch 9/20\n",
      "14/14 [==============================] - 102s 7s/step - loss: 0.0739 - acc: 0.9737 - val_loss: 0.1111 - val_acc: 0.9694\n",
      "Epoch 10/20\n",
      "14/14 [==============================] - 86s 6s/step - loss: 0.1716 - acc: 0.9456 - val_loss: 0.0962 - val_acc: 0.9694\n",
      "Epoch 11/20\n",
      "14/14 [==============================] - 85s 7s/step - loss: 0.0713 - acc: 0.9737 - val_loss: 0.1628 - val_acc: 0.9643\n",
      "Epoch 12/20\n",
      "14/14 [==============================] - 86s 6s/step - loss: 0.0728 - acc: 0.9701 - val_loss: 0.1396 - val_acc: 0.9643\n",
      "Epoch 13/20\n",
      "14/14 [==============================] - 87s 6s/step - loss: 0.2428 - acc: 0.9366 - val_loss: 0.0926 - val_acc: 0.9592\n",
      "Epoch 14/20\n",
      "14/14 [==============================] - 86s 6s/step - loss: 0.0684 - acc: 0.9797 - val_loss: 0.1126 - val_acc: 0.9694\n",
      "Epoch 15/20\n",
      "14/14 [==============================] - 86s 6s/step - loss: 0.0448 - acc: 0.9862 - val_loss: 0.1313 - val_acc: 0.9541\n",
      "Epoch 16/20\n",
      "14/14 [==============================] - 120s 9s/step - loss: 0.0228 - acc: 0.9892 - val_loss: 0.6525 - val_acc: 0.8571\n",
      "Epoch 17/20\n",
      "14/14 [==============================] - 85s 6s/step - loss: 0.1758 - acc: 0.9587 - val_loss: 0.1112 - val_acc: 0.9643\n",
      "Epoch 18/20\n",
      "14/14 [==============================] - 86s 6s/step - loss: 0.0205 - acc: 0.9892 - val_loss: 0.1234 - val_acc: 0.9745\n",
      "Epoch 19/20\n",
      "14/14 [==============================] - 87s 6s/step - loss: 0.1267 - acc: 0.9635 - val_loss: 0.1583 - val_acc: 0.9694\n",
      "Epoch 20/20\n",
      "14/14 [==============================] - 91s 6s/step - loss: 0.0663 - acc: 0.9782 - val_loss: 0.1133 - val_acc: 0.9694\n"
     ]
    }
   ],
   "source": [
    "class myCallback(tf.keras.callbacks.Callback):\n",
    "  def on_epoch_end(self, epoch, logs={}):\n",
    "    if(logs.get('val_loss')<=0.1099 and logs.get('loss')<=0.1099):\n",
    "      print('\\n\\n Reached The Destination!')\n",
    "      self.model.stop_training = True\n",
    "callbacks = myCallback()\n",
    "\n",
    "history = model.fit(\n",
    "    train_generator,\n",
    "    steps_per_epoch = 14,\n",
    "    epochs = 20,\n",
    "    validation_data = validation_generator,\n",
    "    validation_steps = 14,\n",
    "    callbacks=[callbacks]\n",
    ")"
   ]
  },
  {
   "cell_type": "code",
   "execution_count": 4,
   "metadata": {
    "colab": {
     "base_uri": "https://localhost:8080/",
     "height": 399
    },
    "colab_type": "code",
    "id": "quS_DTwyBT1K",
    "outputId": "9cd463ed-a852-4368-ca52-316938eb2e7e"
   },
   "outputs": [
    {
     "name": "stderr",
     "output_type": "stream",
     "text": [
      "D:\\anaconda\\lib\\site-packages\\keras\\optimizer_v2\\gradient_descent.py:102: UserWarning: The `lr` argument is deprecated, use `learning_rate` instead.\n",
      "  super(SGD, self).__init__(name, **kwargs)\n"
     ]
    },
    {
     "name": "stdout",
     "output_type": "stream",
     "text": [
      "Epoch 1/10\n",
      "14/14 [==============================] - 114s 8s/step - loss: 0.5678 - acc: 0.7416 - val_loss: 0.1095 - val_acc: 0.9694\n",
      "Epoch 2/10\n",
      "14/14 [==============================] - 113s 8s/step - loss: 0.3865 - acc: 0.8008 - val_loss: 0.1124 - val_acc: 0.9643\n",
      "Epoch 3/10\n",
      "14/14 [==============================] - 117s 8s/step - loss: 0.2904 - acc: 0.8451 - val_loss: 0.1162 - val_acc: 0.9592\n",
      "Epoch 4/10\n",
      "14/14 [==============================] - 121s 9s/step - loss: 0.2350 - acc: 0.8714 - val_loss: 0.1214 - val_acc: 0.9541\n",
      "Epoch 5/10\n",
      "14/14 [==============================] - 122s 9s/step - loss: 0.1932 - acc: 0.8983 - val_loss: 0.1118 - val_acc: 0.9541\n",
      "Epoch 6/10\n",
      "14/14 [==============================] - 121s 9s/step - loss: 0.1709 - acc: 0.9091 - val_loss: 0.1218 - val_acc: 0.9541\n",
      "Epoch 7/10\n",
      "14/14 [==============================] - 121s 9s/step - loss: 0.1421 - acc: 0.9294 - val_loss: 0.1312 - val_acc: 0.9388\n",
      "Epoch 8/10\n",
      "14/14 [==============================] - 121s 9s/step - loss: 0.1265 - acc: 0.9480 - val_loss: 0.1330 - val_acc: 0.9388\n",
      "Epoch 9/10\n",
      "14/14 [==============================] - 121s 9s/step - loss: 0.1212 - acc: 0.9462 - val_loss: 0.1354 - val_acc: 0.9388\n",
      "Epoch 10/10\n",
      "14/14 [==============================] - 148s 11s/step - loss: 0.1040 - acc: 0.9593 - val_loss: 0.1318 - val_acc: 0.9388\n",
      "311\n"
     ]
    }
   ],
   "source": [
    "\n",
    "for layer in model.layers[:249]:\n",
    "   layer.trainable = False\n",
    "for layer in model.layers[249:]:\n",
    "   layer.trainable = True\n",
    "\n",
    "from tensorflow.keras.optimizers import SGD\n",
    "model.compile(optimizer=SGD(lr=0.0001, momentum=0.9), loss='categorical_crossentropy', metrics=['acc'])\n",
    "\n",
    "\n",
    "class myCallback(tf.keras.callbacks.Callback):\n",
    "  def on_epoch_end(self, epoch, logs={}):\n",
    "    if(logs.get('val_loss')<=0.1099 and logs.get('loss')<=0.1099):\n",
    "      print('\\n\\n Reached The Destination!')\n",
    "      self.model.stop_training = True\n",
    "callbacks = myCallback()\n",
    "\n",
    "history = model.fit(\n",
    "    train_generator,\n",
    "    steps_per_epoch = 14,\n",
    "    epochs = 10,\n",
    "    validation_data = validation_generator,\n",
    "    validation_steps = 14,\n",
    "    callbacks=[callbacks]\n",
    ")\n",
    "print(len(base_model.layers))"
   ]
  },
  {
   "cell_type": "code",
   "execution_count": 5,
   "metadata": {
    "colab": {
     "base_uri": "https://localhost:8080/",
     "height": 581
    },
    "colab_type": "code",
    "id": "MfavSDNZkKXq",
    "outputId": "e22978a0-ba3c-4ec2-f226-e12f06abe502"
   },
   "outputs": [
    {
     "data": {
      "image/png": "[encoded data removed]",
      "text/plain": [
       "<Figure size 432x288 with 1 Axes>"
      ]
     },
     "metadata": {
      "needs_background": "light"
     },
     "output_type": "display_data"
    },
    {
     "data": {
      "text/plain": [
       "<Figure size 432x288 with 0 Axes>"
      ]
     },
     "metadata": {},
     "output_type": "display_data"
    },
    {
     "data": {
      "image/png": "[encoded data removed]",
      "text/plain": [
       "<Figure size 432x288 with 1 Axes>"
      ]
     },
     "metadata": {
      "needs_background": "light"
     },
     "output_type": "display_data"
    },
    {
     "data": {
      "text/plain": [
       "<Figure size 432x288 with 0 Axes>"
      ]
     },
     "metadata": {},
     "output_type": "display_data"
    }
   ],
   "source": [
    "%matplotlib inline\n",
    "import matplotlib.pyplot as plt\n",
    "acc = history.history['acc']\n",
    "val_acc = history.history['val_acc']\n",
    "loss = history.history['loss']\n",
    "val_loss = history.history['val_loss']\n",
    "\n",
    "epochs = range(len(acc))\n",
    "\n",
    "plt.plot(epochs, acc, 'g', label='Training accuracy')\n",
    "plt.plot(epochs, val_acc, 'b', label='Validation accuracy')\n",
    "plt.title('Training and validation accuracy')\n",
    "\n",
    "plt.legend(loc=0)\n",
    "plt.figure()\n",
    "plt.show()\n",
    "\n",
    "plt.plot(epochs, loss, 'r', label='Training loss')\n",
    "plt.plot(epochs, val_loss, 'orange', label='Validation loss')\n",
    "plt.title('Training and validation loss')\n",
    "\n",
    "plt.legend(loc=0)\n",
    "plt.figure()\n",
    "plt.show()"
   ]
  },
  {
   "cell_type": "code",
   "execution_count": 15,
   "metadata": {
    "colab": {},
    "colab_type": "code",
    "id": "lsD4EFzQNSSx"
   },
   "outputs": [
    {
     "name": "stdout",
     "output_type": "stream",
     "text": [
      "0.61986464\n",
      "0.61986464\n",
      "0.94671875\n",
      "0.94671875\n",
      "0.83420193\n",
      "0.82431966\n",
      "0.86004835\n",
      "0.94967794\n",
      "0.94967794\n",
      "0.59738225\n",
      "0.56389654\n",
      "0.695685\n",
      "0.91191125\n",
      "0.9746753\n",
      "0.9746753\n",
      "0.5259885\n",
      "0.55729574\n",
      "0.6545312\n",
      "0.62830925\n",
      "0.5070282\n",
      "0.5961976\n",
      "0.5961976\n",
      "0.5001393\n",
      "0.5578898\n",
      "0.6183814\n",
      "0.5641069\n",
      "0.5665575\n",
      "0.5665575\n",
      "0.7713392\n",
      "0.5938519\n",
      "0.654967\n",
      "0.6071487\n",
      "0.5394564\n",
      "0.67092764\n",
      "0.56678706\n",
      "0.5120934\n",
      "0.5120934\n",
      "0.5110407\n",
      "0.5110407\n",
      "0.93779457\n",
      "0.875858\n",
      "0.9380909\n",
      "0.9768747\n",
      "0.9911447\n",
      "0.9797402\n",
      "0.9684798\n",
      "0.9887101\n",
      "0.9887101\n",
      "0.99632436\n",
      "0.9723891\n",
      "0.9904384\n",
      "0.9904384\n",
      "0.7752735\n",
      "0.5259068\n"
     ]
    }
   ],
   "source": [
    "import cv2\n",
    "import numpy as np\n",
    "from PIL import Image\n",
    "import tensorflow as tf\n",
    "from keras.preprocessing import image\n",
    "#Load the saved model\n",
    "#model = tf.keras.models.load_model('InceptionV3.h5')\n",
    "video = cv2.VideoCapture(0)\n",
    "while True:\n",
    "        _, frame = video.read()\n",
    "#Convert the captured frame into RGB\n",
    "        im = Image.fromarray(frame, 'RGB')\n",
    "#Resizing into 224x224 because we trained the model with this image size.\n",
    "        im = im.resize((224,224))\n",
    "        img_array = image.img_to_array(im)\n",
    "        img_array = np.expand_dims(img_array, axis=0) / 255\n",
    "        probabilities = model.predict(img_array)[0]\n",
    "        #Calling the predict method on model to predict 'fire' on the image\n",
    "        prediction = np.argmax(probabilities)\n",
    "        #if prediction is 0, which means there is fire in the frame.\n",
    "        if prediction == 0:\n",
    "                frame = cv2.cvtColor(frame, cv2.COLOR_RGB2GRAY)\n",
    "                print(probabilities[prediction])\n",
    "        cv2.imshow(\"Capturing\", frame)\n",
    "        key=cv2.waitKey(1)\n",
    "        if key == ord('q'):\n",
    "                break\n",
    "video.release()\n",
    "cv2.destroyAllWindows()"
   ]
  },
  {
   "cell_type": "code",
   "execution_count": null,
   "metadata": {},
   "outputs": [],
   "source": []
  }
 ],
 "metadata": {
  "accelerator": "GPU",
  "colab": {
   "collapsed_sections": [],
   "name": "InceptionFireDetection.ipynb",
   "provenance": []
  },
  "kernelspec": {
   "display_name": "Python 3 (ipykernel)",
   "language": "python",
   "name": "python3"
  },
  "language_info": {
   "codemirror_mode": {
    "name": "ipython",
    "version": 3
   },
   "file_extension": ".py",
   "mimetype": "text/x-python",
   "name": "python",
   "nbconvert_exporter": "python",
   "pygments_lexer": "ipython3",
   "version": "3.9.7"
  }
 },
 "nbformat": 4,
 "nbformat_minor": 1
}
