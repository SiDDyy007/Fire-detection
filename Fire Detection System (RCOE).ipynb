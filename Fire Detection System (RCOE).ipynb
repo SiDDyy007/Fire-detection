{
 "cells": [
  {
   "cell_type": "markdown",
   "id": "367e4c54",
   "metadata": {},
   "source": [
    "Installing Tensor Flow"
   ]
  },
  {
   "cell_type": "code",
   "execution_count": null,
   "id": "6fbbba7b",
   "metadata": {},
   "outputs": [],
   "source": [
    "! pip install tensorflow"
   ]
  },
  {
   "cell_type": "code",
   "execution_count": null,
   "id": "8dd4c033",
   "metadata": {},
   "outputs": [],
   "source": [
    "import tensorflow as tf \n",
    "from tensorflow.keras.preprocessing.image import ImageDataGenerator"
   ]
  },
  {
   "cell_type": "code",
   "execution_count": null,
   "id": "39c9abfa",
   "metadata": {},
   "outputs": [],
   "source": [
    "tf.__version__ #Checking Version"
   ]
  },
  {
   "cell_type": "code",
   "execution_count": null,
   "id": "648de998",
   "metadata": {},
   "outputs": [],
   "source": [
    "tf.test.is_gpu_available() #Checking GPU (Faster training if GPU is present)"
   ]
  },
  {
   "cell_type": "code",
   "execution_count": null,
   "id": "ac2fa4e6",
   "metadata": {},
   "outputs": [],
   "source": [
    "training_datagenerator= ImageDataGenerator(rescale=1./255,horizontal_flip =True, vertical_flip=True, validation_split=0.1"
   ]
  },
  {
   "cell_type": "code",
   "execution_count": null,
   "id": "0f26807b",
   "metadata": {},
   "outputs": [],
   "source": [
    "batch_size=16\n",
    "train=training_datagenerator.flow_from_directory('C:\\\\Users\\\\SiDD\\\\Downloads\\\\archive\\\\Training Data',\n",
    "                                                 target_size=(224,224),\n",
    "                                                 color_mode = 'rgb',\n",
    "                                                class_mode='binary',\n",
    "                                                batch_size=batch_size,\n",
    "                                                subset='training')\n",
    "validation=training_datagenerator.flow_from_directory('C:\\\\Users\\\\SiDD\\\\Downloads\\\\archive\\\\Training Data',\n",
    "                                                 target_size=(224,224),\n",
    "                                                 color_mode = 'rgb',\n",
    "                                                class_mode='binary',\n",
    "                                                batch_size=batch_size,\n",
    "                                                subset='validation')"
   ]
  },
  {
   "cell_type": "code",
   "execution_count": null,
   "id": "addf23f3",
   "metadata": {},
   "outputs": [],
   "source": [
    "#Initialzing Cnn\n",
    "cnn=tf.keras.models.Sequential()\n",
    "#adding first layer\n",
    "cnn.add(tf.keras.layers.Conv2D(filters=32,kernel_size=3,padding='same',activation='relu',input_shape=[224,224,3]))\n",
    "cnn.add(tf.keras.layers.MaxPool2D(pool_size=2))\n",
    "#adding second layer\n",
    "cnn.add(tf.keras.layers.Conv2D(filters=64,kernel_size=3,padding='same',activation='relu'))\n",
    "cnn.add(tf.keras.layers.MaxPool2D(pool_size=2))\n",
    "#dding third layer\n",
    "cnn.add(tf.keras.layers.Conv2D(filters=256,kernel_size=3,padding='same',activation='relu'))\n",
    "cnn.add(tf.keras.layers.MaxPool2D(pool_size=2))\n",
    "\n",
    "#flattening\n",
    "cnn.add(tf.keras.layers.Flatten())\n",
    "\n",
    "#fully connected layer\n",
    "cnn.add(tf.keras.layers.Dense(units=128,activation='relu'))\n",
    "\n",
    "#output layers\n",
    "cnn.add(tf.keras.layers.Dense(units=1,activation='sigmoid'))"
   ]
  },
  {
   "cell_type": "code",
   "execution_count": null,
   "id": "960e7b56",
   "metadata": {},
   "outputs": [],
   "source": [
    "cnn.summary()"
   ]
  },
  {
   "cell_type": "markdown",
   "id": "403811ff",
   "metadata": {},
   "source": [
    "TRAINING OUR CNN MODEL"
   ]
  },
  {
   "cell_type": "code",
   "execution_count": null,
   "id": "d796718e",
   "metadata": {},
   "outputs": [],
   "source": [
    "checkpoint=tf.keras.callbacks.ModelCheckpoint('C:\\\\Users\\\\SiDD\\\\Downloads\\\\archive\\\\models\\\\fire_and_smoke_model.h5',\n",
    "                                              monitor='val_loss',mode=\"min\",\n",
    "                                             save_best_only=True)\n",
    "callbacks=checkpoint"
   ]
  },
  {
   "cell_type": "code",
   "execution_count": null,
   "id": "7269a467",
   "metadata": {},
   "outputs": [],
   "source": [
    "#Compile and Train\n",
    "cnn.compile(optimizer='Adam',loss='binary_crossentropy',metrics=['accuracy'])\n",
    "cnn.fit_generator(train,validation_data=validation,epochs=1,\n",
    "                  steps_per_epoch=train.samples//batch_size,\n",
    "                  validation_steps=validation.samples//batch_size,\n",
    "                  callbacks=callbacks\n",
    "                  \n",
    "                 )"
   ]
  },
  {
   "cell_type": "markdown",
   "id": "d5cc1ae4",
   "metadata": {},
   "source": [
    "TESTING OUR CNN MODEL"
   ]
  },
  {
   "cell_type": "code",
   "execution_count": null,
   "id": "cd78290d",
   "metadata": {},
   "outputs": [],
   "source": [
    "from tensorflow.keras.models import load_model\n",
    "cnn=load_model('C:\\\\Users\\\\SiDD\\\\Downloads\\\\archive\\\\models\\\\fire_and_smoke_model.h5')"
   ]
  },
  {
   "cell_type": "code",
   "execution_count": null,
   "id": "a8b406a5",
   "metadata": {},
   "outputs": [],
   "source": [
    "cnn.summary()"
   ]
  },
  {
   "cell_type": "code",
   "execution_count": null,
   "id": "88c076a2",
   "metadata": {},
   "outputs": [],
   "source": [
    "from tensorflow.keras.preprocessing import image\n",
    "import numpy as np\n",
    "import matplotlib.pyplot as plt\n",
    "import PIL"
   ]
  },
  {
   "cell_type": "code",
   "execution_count": null,
   "id": "44f67645",
   "metadata": {},
   "outputs": [],
   "source": [
    "image_for_testing=r'C:\\\\Users\\\\SiDD\\\\Downloads\\\\archive\\\\Training Data\\\\Fire\\\\1.png'\n",
    "test_image=image.load_img(image_for_testing,target_size=(224,224))"
   ]
  },
  {
   "cell_type": "code",
   "execution_count": null,
   "id": "354d2b22",
   "metadata": {},
   "outputs": [],
   "source": [
    "test_image"
   ]
  },
  {
   "cell_type": "code",
   "execution_count": null,
   "id": "4641ef2d",
   "metadata": {},
   "outputs": [],
   "source": [
    "test_image=image.load_img(image_for_testing,target_size=(224,224))\n",
    "test_image=image.img_to_array(test_image)\n",
    "test_image=test_image/255\n",
    "test_image=np.expand_dims(test_image,axis=0)\n",
    "#result=cnn.predict_classes(test_image)\n",
    "\n",
    "predict_x=cnn.predict(test_image) \n",
    "classes_x=np.argmax(predict_x,axis=1)\n",
    "\n",
    "Catagories=['Fire','Smoke']\n",
    "\n",
    "image_show=PIL.Image.open(image_for_testing)\n",
    "plt.imshow(image_show)\n",
    "\n",
    "plt.title(Catagories[int(predict_x[0][0])])\n",
    "plt.show()"
   ]
  }
 ],
 "metadata": {
  "kernelspec": {
   "display_name": "Python 3",
   "language": "python",
   "name": "python3"
  },
  "language_info": {
   "codemirror_mode": {
    "name": "ipython",
    "version": 3
   },
   "file_extension": ".py",
   "mimetype": "text/x-python",
   "name": "python",
   "nbconvert_exporter": "python",
   "pygments_lexer": "ipython3",
   "version": "3.8.8"
  }
 },
 "nbformat": 4,
 "nbformat_minor": 5
}
