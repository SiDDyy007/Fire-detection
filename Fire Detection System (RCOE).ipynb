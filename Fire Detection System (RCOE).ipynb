{
 "cells": [
  {
   "cell_type": "markdown",
   "id": "ad6eb26b",
   "metadata": {},
   "source": [
    "Installing Tensor Flow"
   ]
  },
  {
   "cell_type": "code",
   "execution_count": null,
   "id": "8f88e287",
   "metadata": {},
   "outputs": [],
   "source": [
    "! pip install tensorflow"
   ]
  },
  {
   "cell_type": "code",
   "execution_count": null,
   "id": "e9634fc9",
   "metadata": {},
   "outputs": [],
   "source": [
    "import tensorflow as tf \n",
    "from tensorflow.keras.preprocessing.image import ImageDataGenerator"
   ]
  },
  {
   "cell_type": "code",
   "execution_count": null,
   "id": "4a377dad",
   "metadata": {},
   "outputs": [],
   "source": [
    "tf.__version__ #Checking Version"
   ]
  },
  {
   "cell_type": "code",
   "execution_count": null,
   "id": "2c3ad4e9",
   "metadata": {},
   "outputs": [],
   "source": [
    "tf.test.is_gpu_available() #Checking GPU (Faster training if GPU is present)"
   ]
  },
  {
   "cell_type": "code",
   "execution_count": null,
   "id": "489f4810",
   "metadata": {},
   "outputs": [],
   "source": [
    "training_datagenerator= ImageDataGenerator(rescale=1./255,horizontal_flip =True, vertical_flip=True, validation_split=0.1"
   ]
  },
  {
   "cell_type": "code",
   "execution_count": null,
   "id": "3648228d",
   "metadata": {},
   "outputs": [],
   "source": [
    "batch_size=16\n",
    "train=training_datagenerator.flow_from_directory('C:\\\\Users\\\\SiDD\\\\Downloads\\\\archive\\\\Training Data',\n",
    "                                                 target_size=(224,224),\n",
    "                                                 color_mode = 'rgb',\n",
    "                                                class_mode='binary',\n",
    "                                                batch_size=batch_size,\n",
    "                                                subset='training')\n",
    "validation=training_datagenerator.flow_from_directory('C:\\\\Users\\\\SiDD\\\\Downloads\\\\archive\\\\Training Data',\n",
    "                                                 target_size=(224,224),\n",
    "                                                 color_mode = 'rgb',\n",
    "                                                class_mode='binary',\n",
    "                                                batch_size=batch_size,\n",
    "                                                subset='validation')"
   ]
  },
  {
   "cell_type": "code",
   "execution_count": null,
   "id": "250a730e",
   "metadata": {},
   "outputs": [],
   "source": [
    "#Initialzing Cnn\n",
    "cnn=tf.keras.models.Sequential()\n",
    "#adding first layer\n",
    "cnn.add(tf.keras.layers.Conv2D(filters=32,kernel_size=3,padding='same',activation='relu',input_shape=[224,224,3]))\n",
    "cnn.add(tf.keras.layers.MaxPool2D(pool_size=2))\n",
    "#adding second layer\n",
    "cnn.add(tf.keras.layers.Conv2D(filters=64,kernel_size=3,padding='same',activation='relu'))\n",
    "cnn.add(tf.keras.layers.MaxPool2D(pool_size=2))\n",
    "#dding third layer\n",
    "cnn.add(tf.keras.layers.Conv2D(filters=256,kernel_size=3,padding='same',activation='relu'))\n",
    "cnn.add(tf.keras.layers.MaxPool2D(pool_size=2))\n",
    "\n",
    "#flattening\n",
    "cnn.add(tf.keras.layers.Flatten())\n",
    "\n",
    "#fully connected layer\n",
    "cnn.add(tf.keras.layers.Dense(units=128,activation='relu'))\n",
    "\n",
    "#output layers\n",
    "cnn.add(tf.keras.layers.Dense(units=1,activation='sigmoid'))"
   ]
  },
  {
   "cell_type": "code",
   "execution_count": null,
   "id": "869e1004",
   "metadata": {},
   "outputs": [],
   "source": [
    "cnn.summary()"
   ]
  },
  {
   "cell_type": "code",
   "execution_count": null,
   "id": "cbb0333a",
   "metadata": {},
   "outputs": [],
   "source": []
  }
 ],
 "metadata": {
  "kernelspec": {
   "display_name": "Python 3",
   "language": "python",
   "name": "python3"
  },
  "language_info": {
   "codemirror_mode": {
    "name": "ipython",
    "version": 3
   },
   "file_extension": ".py",
   "mimetype": "text/x-python",
   "name": "python",
   "nbconvert_exporter": "python",
   "pygments_lexer": "ipython3",
   "version": "3.8.8"
  }
 },
 "nbformat": 4,
 "nbformat_minor": 5
}
