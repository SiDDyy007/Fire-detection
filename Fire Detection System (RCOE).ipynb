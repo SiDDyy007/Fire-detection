{
 "cells": [
  {
   "cell_type": "markdown",
   "id": "507fa934",
   "metadata": {},
   "source": [
    "Installing Tensor Flow"
   ]
  },
  {
   "cell_type": "code",
   "execution_count": null,
   "id": "fbdb5dd4",
   "metadata": {},
   "outputs": [],
   "source": [
    "! pip install tensorflow"
   ]
  },
  {
   "cell_type": "code",
   "execution_count": null,
   "id": "51516b42",
   "metadata": {},
   "outputs": [],
   "source": [
    "import tensorflow as tf \n",
    "from tensorflow.keras.preprocessing.image import ImageDataGenerator"
   ]
  },
  {
   "cell_type": "code",
   "execution_count": null,
   "id": "c1c4d793",
   "metadata": {},
   "outputs": [],
   "source": [
    "tf.__version__ #Checking Version"
   ]
  },
  {
   "cell_type": "code",
   "execution_count": null,
   "id": "94ce791a",
   "metadata": {},
   "outputs": [],
   "source": [
    "tf.test.is_gpu_available() #Checking GPU (Faster training if GPU is present)"
   ]
  },
  {
   "cell_type": "code",
   "execution_count": null,
   "id": "1383fbae",
   "metadata": {},
   "outputs": [],
   "source": [
    "training_datagenerator= ImageDataGenerator(rescale=1./255,horizontal_flip =True, vertical_flip=True, validation_split=0.1"
   ]
  },
  {
   "cell_type": "code",
   "execution_count": null,
   "id": "f9c2abe4",
   "metadata": {},
   "outputs": [],
   "source": [
    "batch_size=16\n",
    "train=training_datagenerator.flow_from_directory('C:\\\\Users\\\\SiDD\\\\Downloads\\\\archive\\\\Training Data',\n",
    "                                                 target_size=(224,224),\n",
    "                                                 color_mode = 'rgb',\n",
    "                                                class_mode='binary',\n",
    "                                                batch_size=batch_size,\n",
    "                                                subset='training')\n",
    "validation=training_datagenerator.flow_from_directory('C:\\\\Users\\\\SiDD\\\\Downloads\\\\archive\\\\Training Data',\n",
    "                                                 target_size=(224,224),\n",
    "                                                 color_mode = 'rgb',\n",
    "                                                class_mode='binary',\n",
    "                                                batch_size=batch_size,\n",
    "                                                subset='validation')"
   ]
  },
  {
   "cell_type": "code",
   "execution_count": null,
   "id": "cbee12c3",
   "metadata": {},
   "outputs": [],
   "source": [
    "#Initialzing Cnn\n",
    "cnn=tf.keras.models.Sequential()\n",
    "#adding first layer\n",
    "cnn.add(tf.keras.layers.Conv2D(filters=32,kernel_size=3,padding='same',activation='relu',input_shape=[224,224,3]))\n",
    "cnn.add(tf.keras.layers.MaxPool2D(pool_size=2))\n",
    "#adding second layer\n",
    "cnn.add(tf.keras.layers.Conv2D(filters=64,kernel_size=3,padding='same',activation='relu'))\n",
    "cnn.add(tf.keras.layers.MaxPool2D(pool_size=2))\n",
    "#dding third layer\n",
    "cnn.add(tf.keras.layers.Conv2D(filters=256,kernel_size=3,padding='same',activation='relu'))\n",
    "cnn.add(tf.keras.layers.MaxPool2D(pool_size=2))\n",
    "\n",
    "#flattening\n",
    "cnn.add(tf.keras.layers.Flatten())\n",
    "\n",
    "#fully connected layer\n",
    "cnn.add(tf.keras.layers.Dense(units=128,activation='relu'))\n",
    "\n",
    "#output layers\n",
    "cnn.add(tf.keras.layers.Dense(units=1,activation='sigmoid'))"
   ]
  },
  {
   "cell_type": "code",
   "execution_count": null,
   "id": "c58e834b",
   "metadata": {},
   "outputs": [],
   "source": [
    "cnn.summary()"
   ]
  },
  {
   "cell_type": "markdown",
   "id": "73cc0c9c",
   "metadata": {},
   "source": [
    "TRAINING OUR CNN MODEL"
   ]
  },
  {
   "cell_type": "code",
   "execution_count": null,
   "id": "9334cbff",
   "metadata": {},
   "outputs": [],
   "source": [
    "checkpoint=tf.keras.callbacks.ModelCheckpoint('C:\\\\Users\\\\SiDD\\\\Downloads\\\\archive\\\\models\\\\fire_and_smoke_model.h5',\n",
    "                                              monitor='val_loss',mode=\"min\",\n",
    "                                             save_best_only=True)\n",
    "callbacks=checkpoint"
   ]
  },
  {
   "cell_type": "code",
   "execution_count": null,
   "id": "31a2c512",
   "metadata": {},
   "outputs": [],
   "source": [
    "#Compile and Train\n",
    "cnn.compile(optimizer='Adam',loss='binary_crossentropy',metrics=['accuracy'])\n",
    "cnn.fit_generator(train,validation_data=validation,epochs=1,\n",
    "                  steps_per_epoch=train.samples//batch_size,\n",
    "                  validation_steps=validation.samples//batch_size,\n",
    "                  callbacks=callbacks\n",
    "                  \n",
    "                 )"
   ]
  },
  {
   "cell_type": "markdown",
   "id": "dd34978a",
   "metadata": {},
   "source": [
    "TESTING OUR CNN MODEL"
   ]
  },
  {
   "cell_type": "code",
   "execution_count": null,
   "id": "345988f8",
   "metadata": {},
   "outputs": [],
   "source": [
    "from tensorflow.keras.models import load_model\n",
    "cnn=load_model('C:\\\\Users\\\\SiDD\\\\Downloads\\\\archive\\\\models\\\\fire_and_smoke_model.h5')"
   ]
  },
  {
   "cell_type": "code",
   "execution_count": null,
   "id": "da2e9a05",
   "metadata": {},
   "outputs": [],
   "source": [
    "cnn.summary()"
   ]
  },
  {
   "cell_type": "code",
   "execution_count": null,
   "id": "e7647471",
   "metadata": {},
   "outputs": [],
   "source": [
    "from tensorflow.keras.preprocessing import image\n",
    "import numpy as np\n",
    "import matplotlib.pyplot as plt\n",
    "import PIL"
   ]
  },
  {
   "cell_type": "code",
   "execution_count": null,
   "id": "4e30da37",
   "metadata": {},
   "outputs": [],
   "source": [
    "image_for_testing=r'C:\\\\Users\\\\SiDD\\\\Downloads\\\\archive\\\\Training Data\\\\Fire\\\\1.png'\n",
    "test_image=image.load_img(image_for_testing,target_size=(224,224))"
   ]
  },
  {
   "cell_type": "code",
   "execution_count": null,
   "id": "a3770880",
   "metadata": {},
   "outputs": [],
   "source": [
    "test_image"
   ]
  }
 ],
 "metadata": {
  "kernelspec": {
   "display_name": "Python 3",
   "language": "python",
   "name": "python3"
  },
  "language_info": {
   "codemirror_mode": {
    "name": "ipython",
    "version": 3
   },
   "file_extension": ".py",
   "mimetype": "text/x-python",
   "name": "python",
   "nbconvert_exporter": "python",
   "pygments_lexer": "ipython3",
   "version": "3.8.8"
  }
 },
 "nbformat": 4,
 "nbformat_minor": 5
}
