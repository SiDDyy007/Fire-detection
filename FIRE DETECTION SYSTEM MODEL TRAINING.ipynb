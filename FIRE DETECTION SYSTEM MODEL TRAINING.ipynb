{
 "cells": [
  {
   "cell_type": "code",
   "execution_count": 1,
   "metadata": {
    "colab": {
     "base_uri": "https://localhost:8080/",
     "height": 54
    },
    "colab_type": "code",
    "id": "M3OBXeh6VWr0",
    "outputId": "3f7bd6d4-e5bc-4fd2-c6b2-925995be836f"
   },
   "outputs": [
    {
     "name": "stdout",
     "output_type": "stream",
     "text": [
      "Found 1800 images belonging to 2 classes.\n",
      "Found 200 images belonging to 2 classes.\n"
     ]
    }
   ],
   "source": [
    "import tensorflow as tf\n",
    "import keras_preprocessing\n",
    "from keras_preprocessing import image\n",
    "from keras_preprocessing.image import ImageDataGenerator\n",
    "import shutil\n",
    "TRAINING_DIR = \"Dataset/Train\"\n",
    "\n",
    "training_datagen = ImageDataGenerator(rescale=1./255,zoom_range=0.15,horizontal_flip=True,fill_mode='nearest')\n",
    "\n",
    "VALIDATION_DIR = \"Dataset/Test\"\n",
    "validation_datagen = ImageDataGenerator(rescale = 1./255)\n",
    "\n",
    "train_generator = training_datagen.flow_from_directory(\n",
    "\tTRAINING_DIR,\n",
    "\ttarget_size=(224,224),\n",
    "\tshuffle = True,\n",
    "\tclass_mode='categorical',\n",
    "  batch_size = 128\n",
    ")\n",
    "\n",
    "validation_generator = validation_datagen.flow_from_directory(\n",
    "\tVALIDATION_DIR,\n",
    "\ttarget_size=(224,224),\n",
    "\tclass_mode='categorical',\n",
    "\tshuffle = True,\n",
    "  batch_size= 14\n",
    ")"
   ]
  },
  {
   "cell_type": "code",
   "execution_count": 3,
   "metadata": {
    "colab": {
     "base_uri": "https://localhost:8080/",
     "height": 74
    },
    "colab_type": "code",
    "id": "HH1NABoFzDd0",
    "outputId": "f5c9368f-3cd9-4c49-fcc3-f3182e15ad9b"
   },
   "outputs": [
    {
     "name": "stdout",
     "output_type": "stream",
     "text": [
      "311\n",
      "311\n"
     ]
    }
   ],
   "source": [
    "from tensorflow.keras.applications.inception_v3 import InceptionV3\n",
    "from tensorflow.keras.preprocessing import image\n",
    "from tensorflow.keras.models import Model\n",
    "from tensorflow.keras.layers import Dense, GlobalAveragePooling2D, Input, Dropout\n",
    "\n",
    "#Shape and size of Input\n",
    "input_tensor = Input(shape=(224, 224, 3))\n",
    "\n",
    "#InceptionV3 is a Keras image classification model\n",
    "#Imagenet is widely used for image classification, hence we used it here for weights\n",
    "base_model = InceptionV3(input_tensor=input_tensor, weights='imagenet', include_top=False)\n",
    "\n",
    "\n",
    "x = base_model.output\n",
    "# Global spatial layer added to reduce over-fitting\n",
    "x = GlobalAveragePooling2D()(x)\n",
    "\n",
    "#Normal Dense layer with array size of 2048\n",
    "x = Dense(2048, activation='relu')(x)\n",
    "\n",
    "#Dropout layer with 0.25 input units dropped\n",
    "x = Dropout(0.25)(x)\n",
    "\n",
    "#Normal Dense layer with array size of 1024\n",
    "x = Dense(1024, activation='relu')(x)\n",
    "\n",
    "#Dropout layer with 0.2 input units dropped\n",
    "x = Dropout(0.2)(x)\n",
    "\n",
    "#Classification using softmax activation function into 2 categories.\n",
    "predictions = Dense(2, activation='softmax')(x)\n",
    "\n",
    "model = Model(inputs=base_model.input, outputs=predictions)\n",
    "\n",
    "for layer in base_model.layers:\n",
    "    layer.trainable = False\n",
    "\n",
    "model.compile(optimizer='rmsprop', loss='categorical_crossentropy', metrics=['acc'])\n",
    "\n"
   ]
  },
  {
   "cell_type": "code",
   "execution_count": 3,
   "metadata": {
    "colab": {
     "base_uri": "https://localhost:8080/",
     "height": 745
    },
    "colab_type": "code",
    "id": "l5Uua4-UUP5k",
    "outputId": "c2ddabee-31d9-4d61-b4f2-2ef5231e2acb"
   },
   "outputs": [
    {
     "name": "stdout",
     "output_type": "stream",
     "text": [
      "Epoch 1/20\n",
      "14/14 [==============================] - 210s 14s/step - loss: 9.7630 - acc: 0.8002 - val_loss: 0.1097 - val_acc: 0.9592\n",
      "Epoch 2/20\n",
      "14/14 [==============================] - 201s 14s/step - loss: 0.1225 - acc: 0.9545 - val_loss: 0.1319 - val_acc: 0.9541\n",
      "Epoch 3/20\n",
      "14/14 [==============================] - 205s 14s/step - loss: 0.3892 - acc: 0.8947 - val_loss: 0.1789 - val_acc: 0.9031\n",
      "Epoch 4/20\n",
      "14/14 [==============================] - 204s 14s/step - loss: 0.1283 - acc: 0.9533 - val_loss: 0.2349 - val_acc: 0.9337\n",
      "Epoch 5/20\n",
      "14/14 [==============================] - 205s 14s/step - loss: 0.3252 - acc: 0.9067 - val_loss: 0.1128 - val_acc: 0.9643\n",
      "Epoch 6/20\n",
      "14/14 [==============================] - 202s 15s/step - loss: 0.2826 - acc: 0.9360 - val_loss: 0.1304 - val_acc: 0.9541\n",
      "Epoch 7/20\n",
      "14/14 [==============================] - 203s 14s/step - loss: 0.1506 - acc: 0.9533 - val_loss: 0.1468 - val_acc: 0.9592\n",
      "Epoch 8/20\n",
      "14/14 [==============================] - 170s 12s/step - loss: 0.0602 - acc: 0.9761 - val_loss: 0.4623 - val_acc: 0.8163\n",
      "Epoch 9/20\n",
      "14/14 [==============================] - 80s 6s/step - loss: 0.1804 - acc: 0.9498 - val_loss: 0.1261 - val_acc: 0.9643\n",
      "Epoch 10/20\n",
      "14/14 [==============================] - 86s 6s/step - loss: 0.0616 - acc: 0.9815 - val_loss: 0.1409 - val_acc: 0.9643\n",
      "Epoch 11/20\n",
      "14/14 [==============================] - 83s 6s/step - loss: 0.1311 - acc: 0.9653 - val_loss: 0.1789 - val_acc: 0.9541\n",
      "Epoch 12/20\n",
      "14/14 [==============================] - 88s 7s/step - loss: 0.0425 - acc: 0.9856 - val_loss: 0.1416 - val_acc: 0.9643\n",
      "Epoch 13/20\n",
      "14/14 [==============================] - 95s 7s/step - loss: 0.0834 - acc: 0.9721 - val_loss: 0.1752 - val_acc: 0.9643\n",
      "Epoch 14/20\n",
      "14/14 [==============================] - 87s 6s/step - loss: 0.0740 - acc: 0.9719 - val_loss: 0.1244 - val_acc: 0.9745\n",
      "Epoch 15/20\n",
      "14/14 [==============================] - 86s 6s/step - loss: 0.1641 - acc: 0.9803 - val_loss: 0.1469 - val_acc: 0.9643\n",
      "Epoch 16/20\n",
      "14/14 [==============================] - 86s 6s/step - loss: 0.0251 - acc: 0.9928 - val_loss: 0.9573 - val_acc: 0.8622\n",
      "Epoch 17/20\n",
      "14/14 [==============================] - 88s 6s/step - loss: 0.0696 - acc: 0.9862 - val_loss: 0.3427 - val_acc: 0.9541\n",
      "Epoch 18/20\n",
      "14/14 [==============================] - 89s 6s/step - loss: 0.1031 - acc: 0.9701 - val_loss: 0.6299 - val_acc: 0.9133\n",
      "Epoch 19/20\n",
      "14/14 [==============================] - 89s 6s/step - loss: 0.0354 - acc: 0.9874 - val_loss: 0.2300 - val_acc: 0.9643\n",
      "Epoch 20/20\n",
      "14/14 [==============================] - 88s 6s/step - loss: 0.1190 - acc: 0.9689 - val_loss: 0.1751 - val_acc: 0.9745\n"
     ]
    }
   ],
   "source": [
    "history = model.fit(\n",
    "    train_generator,\n",
    "    steps_per_epoch = 14,\n",
    "    epochs = 20,\n",
    "    validation_data = validation_generator,\n",
    "    validation_steps = 14,\n",
    "    callbacks=[callbacks]\n",
    ")"
   ]
  },
  {
   "cell_type": "code",
   "execution_count": 4,
   "metadata": {
    "colab": {
     "base_uri": "https://localhost:8080/",
     "height": 399
    },
    "colab_type": "code",
    "id": "quS_DTwyBT1K",
    "outputId": "9cd463ed-a852-4368-ca52-316938eb2e7e"
   },
   "outputs": [
    {
     "name": "stderr",
     "output_type": "stream",
     "text": [
      "D:\\anaconda\\lib\\site-packages\\keras\\optimizer_v2\\gradient_descent.py:102: UserWarning: The `lr` argument is deprecated, use `learning_rate` instead.\n",
      "  super(SGD, self).__init__(name, **kwargs)\n"
     ]
    },
    {
     "name": "stdout",
     "output_type": "stream",
     "text": [
      "Epoch 1/10\n",
      "14/14 [==============================] - 129s 9s/step - loss: 0.9398 - acc: 0.7135 - val_loss: 0.1658 - val_acc: 0.9745\n",
      "Epoch 2/10\n",
      "14/14 [==============================] - 125s 9s/step - loss: 0.5577 - acc: 0.8026 - val_loss: 0.1427 - val_acc: 0.9694\n",
      "Epoch 3/10\n",
      "14/14 [==============================] - 124s 9s/step - loss: 0.3152 - acc: 0.8660 - val_loss: 0.1325 - val_acc: 0.9745\n",
      "Epoch 4/10\n",
      "14/14 [==============================] - 125s 9s/step - loss: 0.1793 - acc: 0.9175 - val_loss: 0.1297 - val_acc: 0.9643\n",
      "Epoch 5/10\n",
      "14/14 [==============================] - 126s 9s/step - loss: 0.1527 - acc: 0.9264 - val_loss: 0.1293 - val_acc: 0.9592\n",
      "Epoch 6/10\n",
      "14/14 [==============================] - 126s 9s/step - loss: 0.1282 - acc: 0.9402 - val_loss: 0.1281 - val_acc: 0.9592\n",
      "Epoch 7/10\n",
      "14/14 [==============================] - 126s 9s/step - loss: 0.1045 - acc: 0.9569 - val_loss: 0.1287 - val_acc: 0.9541\n",
      "Epoch 8/10\n",
      "14/14 [==============================] - 126s 9s/step - loss: 0.0965 - acc: 0.9569 - val_loss: 0.1265 - val_acc: 0.9541\n",
      "Epoch 9/10\n",
      "14/14 [==============================] - 124s 9s/step - loss: 0.0861 - acc: 0.9647 - val_loss: 0.1143 - val_acc: 0.9490\n",
      "Epoch 10/10\n",
      "14/14 [==============================] - 122s 9s/step - loss: 0.0784 - acc: 0.9701 - val_loss: 0.1221 - val_acc: 0.9439\n",
      "311\n"
     ]
    }
   ],
   "source": [
    "\n",
    "for layer in model.layers[:249]:\n",
    "   layer.trainable = False\n",
    "for layer in model.layers[249:]:\n",
    "   layer.trainable = True\n",
    "\n",
    "from tensorflow.keras.optimizers import SGD\n",
    "model.compile(optimizer=SGD(lr=0.0001, momentum=0.9), loss='categorical_crossentropy', metrics=['acc'])\n",
    "\n",
    "\n",
    "history = model.fit(\n",
    "    train_generator,\n",
    "    steps_per_epoch = 14,\n",
    "    epochs = 10,\n",
    "    validation_data = validation_generator,\n",
    "    validation_steps = 14,\n",
    "    callbacks=[callbacks]\n",
    ")\n",
    "print(len(base_model.layers))"
   ]
  },
  {
   "cell_type": "code",
   "execution_count": 5,
   "metadata": {
    "colab": {
     "base_uri": "https://localhost:8080/",
     "height": 581
    },
    "colab_type": "code",
    "id": "MfavSDNZkKXq",
    "outputId": "e22978a0-ba3c-4ec2-f226-e12f06abe502"
   },
   "outputs": [
    {
     "data": {
      "image/png": "[encoded data removed]",
      "text/plain": [
       "<Figure size 432x288 with 1 Axes>"
      ]
     },
     "metadata": {
      "needs_background": "light"
     },
     "output_type": "display_data"
    },
    {
     "data": {
      "text/plain": [
       "<Figure size 432x288 with 0 Axes>"
      ]
     },
     "metadata": {},
     "output_type": "display_data"
    },
    {
     "data": {
      "image/png": "[encoded data removed]",
      "text/plain": [
       "<Figure size 432x288 with 1 Axes>"
      ]
     },
     "metadata": {
      "needs_background": "light"
     },
     "output_type": "display_data"
    },
    {
     "data": {
      "text/plain": [
       "<Figure size 432x288 with 0 Axes>"
      ]
     },
     "metadata": {},
     "output_type": "display_data"
    }
   ],
   "source": [
    "%matplotlib inline\n",
    "import matplotlib.pyplot as plt\n",
    "acc = history.history['acc']\n",
    "val_acc = history.history['val_acc']\n",
    "loss = history.history['loss']\n",
    "val_loss = history.history['val_loss']\n",
    "\n",
    "epochs = range(len(acc))\n",
    "\n",
    "plt.plot(epochs, acc, 'g', label='Training accuracy')\n",
    "plt.plot(epochs, val_acc, 'b', label='Validation accuracy')\n",
    "plt.title('Training and validation accuracy')\n",
    "\n",
    "plt.legend(loc=0)\n",
    "plt.figure()\n",
    "plt.show()\n",
    "\n",
    "plt.plot(epochs, loss, 'r', label='Training loss')\n",
    "plt.plot(epochs, val_loss, 'orange', label='Validation loss')\n",
    "plt.title('Training and validation loss')\n",
    "\n",
    "plt.legend(loc=0)\n",
    "plt.figure()\n",
    "plt.show()"
   ]
  },
  {
   "cell_type": "code",
   "execution_count": 6,
   "metadata": {},
   "outputs": [],
   "source": [
    "model.save(\"firemodel.h5\")"
   ]
  },
  {
   "cell_type": "code",
   "execution_count": null,
   "metadata": {},
   "outputs": [],
   "source": []
  }
 ],
 "metadata": {
  "accelerator": "GPU",
  "colab": {
   "collapsed_sections": [],
   "name": "InceptionFireDetection.ipynb",
   "provenance": []
  },
  "kernelspec": {
   "display_name": "Python 3 (ipykernel)",
   "language": "python",
   "name": "python3"
  },
  "language_info": {
   "codemirror_mode": {
    "name": "ipython",
    "version": 3
   },
   "file_extension": ".py",
   "mimetype": "text/x-python",
   "name": "python",
   "nbconvert_exporter": "python",
   "pygments_lexer": "ipython3",
   "version": "3.9.7"
  }
 },
 "nbformat": 4,
 "nbformat_minor": 1
}
